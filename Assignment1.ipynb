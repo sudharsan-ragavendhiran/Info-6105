{
 "cells": [
  {
   "cell_type": "code",
   "execution_count": 1,
   "id": "bd61070e",
   "metadata": {},
   "outputs": [],
   "source": [
    "import numpy as np\n",
    "import random"
   ]
  },
  {
   "cell_type": "code",
   "execution_count": 2,
   "id": "afbe4800",
   "metadata": {},
   "outputs": [],
   "source": [
    "# 1. Create Numpy Arrays:"
   ]
  },
  {
   "cell_type": "code",
   "execution_count": 3,
   "id": "27bbdb35",
   "metadata": {},
   "outputs": [],
   "source": [
    "#1.1 Convert a Python list x=[[1,2,3],[4,5,6]] into a Numpy array.\n",
    "x=[[1,2,3],[4,5,6]]"
   ]
  },
  {
   "cell_type": "code",
   "execution_count": 4,
   "id": "728b4ebd",
   "metadata": {},
   "outputs": [
    {
     "data": {
      "text/plain": [
       "array([[1, 2, 3],\n",
       "       [4, 5, 6]])"
      ]
     },
     "execution_count": 4,
     "metadata": {},
     "output_type": "execute_result"
    }
   ],
   "source": [
    "np.array(x)"
   ]
  },
  {
   "cell_type": "code",
   "execution_count": 5,
   "id": "40bcc868",
   "metadata": {},
   "outputs": [],
   "source": [
    "#1.2 Use one line to create a 3x2 2D array with shape of (3,2), filled with 1-6"
   ]
  },
  {
   "cell_type": "code",
   "execution_count": 6,
   "id": "15a605ff",
   "metadata": {},
   "outputs": [
    {
     "data": {
      "text/plain": [
       "array([[1, 2],\n",
       "       [3, 4],\n",
       "       [5, 6]])"
      ]
     },
     "execution_count": 6,
     "metadata": {},
     "output_type": "execute_result"
    }
   ],
   "source": [
    "np.arange(1,7).reshape(3,2)"
   ]
  },
  {
   "cell_type": "code",
   "execution_count": 7,
   "id": "1226c36a",
   "metadata": {},
   "outputs": [],
   "source": [
    "#1.3 Use one line to create an array of 2, 4, 6, 8, ..., 98, 100; and find the mean value."
   ]
  },
  {
   "cell_type": "code",
   "execution_count": 8,
   "id": "b88ac436",
   "metadata": {},
   "outputs": [
    {
     "data": {
      "text/plain": [
       "array([ 2,  4,  6,  8, 10, 12, 14, 16, 18, 20, 22, 24, 26, 28, 30, 32, 34,\n",
       "       36, 38, 40, 42, 44, 46, 48, 50, 52, 54, 56, 58, 60, 62, 64, 66, 68,\n",
       "       70, 72, 74, 76, 78, 80, 82, 84, 86, 88, 90, 92, 94, 96, 98])"
      ]
     },
     "execution_count": 8,
     "metadata": {},
     "output_type": "execute_result"
    }
   ],
   "source": [
    "x=np.arange(2,100,2)\n",
    "x"
   ]
  },
  {
   "cell_type": "code",
   "execution_count": 9,
   "id": "42752dd4",
   "metadata": {},
   "outputs": [
    {
     "data": {
      "text/plain": [
       "50.0"
      ]
     },
     "execution_count": 9,
     "metadata": {},
     "output_type": "execute_result"
    }
   ],
   "source": [
    "np.mean(x)"
   ]
  },
  {
   "cell_type": "code",
   "execution_count": 10,
   "id": "e8911d64",
   "metadata": {},
   "outputs": [],
   "source": [
    "#1.4 Create an 3x3x3 array filled with arbitrary float numbers; and find the minimum and maximum values"
   ]
  },
  {
   "cell_type": "code",
   "execution_count": 11,
   "id": "2545d16d",
   "metadata": {},
   "outputs": [
    {
     "data": {
      "text/plain": [
       "array([[[0.37806511, 0.84387847, 0.76284588],\n",
       "        [0.94958701, 0.67791088, 0.80478005],\n",
       "        [0.66078296, 0.76753587, 0.08476118]],\n",
       "\n",
       "       [[0.31388979, 0.80507714, 0.19155887],\n",
       "        [0.12436396, 0.30904025, 0.89504729],\n",
       "        [0.36486368, 0.74608112, 0.55692462]],\n",
       "\n",
       "       [[0.01271998, 0.2918988 , 0.49738565],\n",
       "        [0.02816585, 0.01317285, 0.7912464 ],\n",
       "        [0.10238385, 0.63397894, 0.4723216 ]]])"
      ]
     },
     "execution_count": 11,
     "metadata": {},
     "output_type": "execute_result"
    }
   ],
   "source": [
    "y=np.random.rand(3,3,3)\n",
    "y"
   ]
  },
  {
   "cell_type": "code",
   "execution_count": 12,
   "id": "7efd4272",
   "metadata": {},
   "outputs": [
    {
     "data": {
      "text/plain": [
       "0.012719983704722493"
      ]
     },
     "execution_count": 12,
     "metadata": {},
     "output_type": "execute_result"
    }
   ],
   "source": [
    "np.min(y)"
   ]
  },
  {
   "cell_type": "code",
   "execution_count": 13,
   "id": "a919cf14",
   "metadata": {},
   "outputs": [
    {
     "data": {
      "text/plain": [
       "0.9495870116666519"
      ]
     },
     "execution_count": 13,
     "metadata": {},
     "output_type": "execute_result"
    }
   ],
   "source": [
    "np.max(y)"
   ]
  },
  {
   "cell_type": "code",
   "execution_count": 14,
   "id": "baa98e8b",
   "metadata": {},
   "outputs": [],
   "source": [
    "#1.5 Create a 3x4 2D array filled with values from 10 to 21 (included). "
   ]
  },
  {
   "cell_type": "code",
   "execution_count": 15,
   "id": "c4efe4d7",
   "metadata": {},
   "outputs": [
    {
     "data": {
      "text/plain": [
       "array([[10, 11, 12, 13],\n",
       "       [14, 15, 16, 17],\n",
       "       [18, 19, 20, 21]])"
      ]
     },
     "execution_count": 15,
     "metadata": {},
     "output_type": "execute_result"
    }
   ],
   "source": [
    "np.arange(10,22).reshape(3,4)"
   ]
  },
  {
   "cell_type": "code",
   "execution_count": 16,
   "id": "cab93377",
   "metadata": {},
   "outputs": [],
   "source": [
    "#1.6 Create a numpy array of length 10, starting from 5 and has a step of 3 between consecutive numbers."
   ]
  },
  {
   "cell_type": "code",
   "execution_count": 75,
   "id": "a50300c3",
   "metadata": {},
   "outputs": [
    {
     "data": {
      "text/plain": [
       "array([ 5,  8, 11, 14, 17, 20, 23, 26, 29, 32])"
      ]
     },
     "execution_count": 75,
     "metadata": {},
     "output_type": "execute_result"
    }
   ],
   "source": [
    "#solution 1\n",
    "np.arange(5,11*3, 3)"
   ]
  },
  {
   "cell_type": "code",
   "execution_count": 18,
   "id": "71be9a72",
   "metadata": {},
   "outputs": [
    {
     "data": {
      "text/plain": [
       "array([ 5,  8, 11, 14, 17, 20, 23, 26, 29, 32])"
      ]
     },
     "execution_count": 18,
     "metadata": {},
     "output_type": "execute_result"
    }
   ],
   "source": [
    "#solution 2\n",
    "np.arange(0,10)*3+5"
   ]
  },
  {
   "cell_type": "code",
   "execution_count": 164,
   "id": "c9da93bc",
   "metadata": {},
   "outputs": [
    {
     "data": {
      "text/plain": [
       "array([[7, 6, 0, 3, 9, 4, 4, 6, 8, 4],\n",
       "       [9, 2, 1, 1, 6, 3, 4, 5, 4, 0],\n",
       "       [2, 8, 0, 7, 6, 5, 8, 2, 2, 0],\n",
       "       [1, 2, 3, 5, 7, 8, 7, 7, 6, 9],\n",
       "       [2, 0, 4, 5, 4, 6, 9, 0, 4, 6],\n",
       "       [4, 9, 8, 0, 7, 1, 7, 1, 1, 5],\n",
       "       [5, 0, 8, 3, 7, 1, 5, 2, 3, 4],\n",
       "       [5, 7, 6, 8, 0, 4, 6, 3, 5, 9],\n",
       "       [3, 8, 3, 0, 9, 6, 2, 3, 9, 1],\n",
       "       [4, 0, 5, 0, 8, 1, 3, 6, 0, 0]])"
      ]
     },
     "execution_count": 164,
     "metadata": {},
     "output_type": "execute_result"
    }
   ],
   "source": [
    "#1.7 Create a shape (10,10) array with arbitrary values; and find the memory size of this array.\n",
    "x1= np.random.randint(10, size=(10, 10))\n",
    "#x1=np.random.rand(10,10)\n",
    "x1"
   ]
  },
  {
   "cell_type": "code",
   "execution_count": 71,
   "id": "37a55bf4",
   "metadata": {},
   "outputs": [
    {
     "data": {
      "text/plain": [
       "800"
      ]
     },
     "execution_count": 71,
     "metadata": {},
     "output_type": "execute_result"
    }
   ],
   "source": [
    "x1.nbytes"
   ]
  },
  {
   "cell_type": "code",
   "execution_count": 21,
   "id": "23d1e197",
   "metadata": {},
   "outputs": [],
   "source": [
    "#1.8 Create a 1-d array of size 10 with arbitrary values but the fifth value should be 5"
   ]
  },
  {
   "cell_type": "code",
   "execution_count": 22,
   "id": "00934445",
   "metadata": {},
   "outputs": [
    {
     "data": {
      "text/plain": [
       "array([0, 0, 0, 0, 5, 0, 0, 0, 0, 0])"
      ]
     },
     "execution_count": 22,
     "metadata": {},
     "output_type": "execute_result"
    }
   ],
   "source": [
    "x2= np.zeros(10, dtype=int)\n",
    "x2[4]= 5\n",
    "x2"
   ]
  },
  {
   "cell_type": "code",
   "execution_count": 23,
   "id": "1bfe7624",
   "metadata": {},
   "outputs": [],
   "source": [
    "#1.9 Create an array with values ranging from 10 to 49 (included); and reverse it then (first element becomes last)."
   ]
  },
  {
   "cell_type": "code",
   "execution_count": 24,
   "id": "2992051e",
   "metadata": {},
   "outputs": [
    {
     "data": {
      "text/plain": [
       "array([10, 11, 12, 13, 14, 15, 16, 17, 18, 19, 20, 21, 22, 23, 24, 25, 26,\n",
       "       27, 28, 29, 30, 31, 32, 33, 34, 35, 36, 37, 38, 39, 40, 41, 42, 43,\n",
       "       44, 45, 46, 47, 48, 49])"
      ]
     },
     "execution_count": 24,
     "metadata": {},
     "output_type": "execute_result"
    }
   ],
   "source": [
    "x3= np.arange(10,50)\n",
    "x3"
   ]
  },
  {
   "cell_type": "code",
   "execution_count": 25,
   "id": "65dc6c51",
   "metadata": {},
   "outputs": [
    {
     "data": {
      "text/plain": [
       "array([49, 48, 47, 46, 45, 44, 43, 42, 41, 40, 39, 38, 37, 36, 35, 34, 33,\n",
       "       32, 31, 30, 29, 28, 27, 26, 25, 24, 23, 22, 21, 20, 19, 18, 17, 16,\n",
       "       15, 14, 13, 12, 11, 10])"
      ]
     },
     "execution_count": 25,
     "metadata": {},
     "output_type": "execute_result"
    }
   ],
   "source": [
    "x3[::-1]"
   ]
  },
  {
   "cell_type": "code",
   "execution_count": 83,
   "id": "b41ce906",
   "metadata": {},
   "outputs": [],
   "source": [
    "#1.10 Create an array of shape (3, 2) with random values from a uniform distribution over [0, 1) and \n",
    "#confirm you can get the same value when you run it next time"
   ]
  },
  {
   "cell_type": "code",
   "execution_count": 82,
   "id": "4033dbfb",
   "metadata": {},
   "outputs": [
    {
     "data": {
      "text/plain": [
       "array([[ 1.3315865 ,  0.71527897],\n",
       "       [-1.54540029, -0.00838385],\n",
       "       [ 0.62133597, -0.72008556]])"
      ]
     },
     "execution_count": 82,
     "metadata": {},
     "output_type": "execute_result"
    }
   ],
   "source": [
    "np.random.seed(10)\n",
    "np.random.normal(0,1, size=(3, 2))"
   ]
  },
  {
   "cell_type": "code",
   "execution_count": 28,
   "id": "0ed9697e",
   "metadata": {},
   "outputs": [],
   "source": [
    "#1.11 Create a 5x5 matrix with row values ranging from 0 to 4"
   ]
  },
  {
   "cell_type": "code",
   "execution_count": 29,
   "id": "1d0d824f",
   "metadata": {},
   "outputs": [
    {
     "data": {
      "text/plain": [
       "array([[0, 1, 2, 3, 4],\n",
       "       [0, 1, 2, 3, 4],\n",
       "       [0, 1, 2, 3, 4],\n",
       "       [0, 1, 2, 3, 4],\n",
       "       [0, 1, 2, 3, 4]])"
      ]
     },
     "execution_count": 29,
     "metadata": {},
     "output_type": "execute_result"
    }
   ],
   "source": [
    "np.zeros((5,5), dtype=int)+np.arange(5)"
   ]
  },
  {
   "cell_type": "code",
   "execution_count": 30,
   "id": "904a0f90",
   "metadata": {},
   "outputs": [],
   "source": [
    "#1.12 Add a border (filled with 0's) around an existing array:"
   ]
  },
  {
   "cell_type": "code",
   "execution_count": 31,
   "id": "54dcaaf2",
   "metadata": {},
   "outputs": [
    {
     "data": {
      "text/plain": [
       "array([[1., 1., 1., 1., 1.],\n",
       "       [1., 1., 1., 1., 1.],\n",
       "       [1., 1., 1., 1., 1.],\n",
       "       [1., 1., 1., 1., 1.],\n",
       "       [1., 1., 1., 1., 1.]])"
      ]
     },
     "execution_count": 31,
     "metadata": {},
     "output_type": "execute_result"
    }
   ],
   "source": [
    "x6 = np.ones((5,5))\n",
    "x6"
   ]
  },
  {
   "cell_type": "code",
   "execution_count": 32,
   "id": "6d6d2ce1",
   "metadata": {},
   "outputs": [
    {
     "data": {
      "text/plain": [
       "array([[0., 0., 0., 0., 0., 0., 0.],\n",
       "       [0., 1., 1., 1., 1., 1., 0.],\n",
       "       [0., 1., 1., 1., 1., 1., 0.],\n",
       "       [0., 1., 1., 1., 1., 1., 0.],\n",
       "       [0., 1., 1., 1., 1., 1., 0.],\n",
       "       [0., 1., 1., 1., 1., 1., 0.],\n",
       "       [0., 0., 0., 0., 0., 0., 0.]])"
      ]
     },
     "execution_count": 32,
     "metadata": {},
     "output_type": "execute_result"
    }
   ],
   "source": [
    "np.pad(x6, pad_width=1, mode='constant', constant_values=0)"
   ]
  },
  {
   "cell_type": "code",
   "execution_count": 33,
   "id": "c190e1c7",
   "metadata": {},
   "outputs": [],
   "source": [
    "#1.13 Create a 5x5 2-d array with values 1,2,3,4,5 on the diagonal (3 points)"
   ]
  },
  {
   "cell_type": "code",
   "execution_count": 34,
   "id": "18410f93",
   "metadata": {},
   "outputs": [
    {
     "data": {
      "text/plain": [
       "array([[1., 0., 0., 0., 0.],\n",
       "       [0., 2., 0., 0., 0.],\n",
       "       [0., 0., 3., 0., 0.],\n",
       "       [0., 0., 0., 4., 0.],\n",
       "       [0., 0., 0., 0., 5.]])"
      ]
     },
     "execution_count": 34,
     "metadata": {},
     "output_type": "execute_result"
    }
   ],
   "source": [
    "#1.13.1\n",
    "x7=np.zeros([5, 5])\n",
    "x7[np.arange(0, 5), np.arange(0, 5)] = [1,2,3,4,5]\n",
    "x7"
   ]
  },
  {
   "cell_type": "code",
   "execution_count": 35,
   "id": "0ec6a90d",
   "metadata": {},
   "outputs": [
    {
     "data": {
      "text/plain": [
       "array([[0., 0., 0., 0., 0.],\n",
       "       [1., 0., 0., 0., 0.],\n",
       "       [0., 2., 0., 0., 0.],\n",
       "       [0., 0., 3., 0., 0.],\n",
       "       [0., 0., 0., 4., 0.]])"
      ]
     },
     "execution_count": 35,
     "metadata": {},
     "output_type": "execute_result"
    }
   ],
   "source": [
    "#1.13.2\n",
    "x7[np.arange(0, 5), np.arange(0, 5)] = 0\n",
    "x7[np.arange(1, 5), np.arange(0, 4)] = [1,2,3,4]\n",
    "x7"
   ]
  },
  {
   "cell_type": "code",
   "execution_count": 84,
   "id": "aaaf3aec",
   "metadata": {},
   "outputs": [],
   "source": [
    "#1.14 Create a 10x10 2-d array with 1 (2 point) on the border and 0 inside (4 points)."
   ]
  },
  {
   "cell_type": "code",
   "execution_count": 37,
   "id": "ea90cbec",
   "metadata": {},
   "outputs": [
    {
     "data": {
      "text/plain": [
       "array([[1, 1, 1, 1, 1, 1, 1, 1, 1, 1],\n",
       "       [1, 1, 1, 1, 1, 1, 1, 1, 1, 1],\n",
       "       [1, 1, 1, 1, 1, 1, 1, 1, 1, 1],\n",
       "       [1, 1, 1, 1, 1, 1, 1, 1, 1, 1],\n",
       "       [1, 1, 1, 1, 1, 1, 1, 1, 1, 1],\n",
       "       [1, 1, 1, 1, 1, 1, 1, 1, 1, 1],\n",
       "       [1, 1, 1, 1, 1, 1, 1, 1, 1, 1],\n",
       "       [1, 1, 1, 1, 1, 1, 1, 1, 1, 1],\n",
       "       [1, 1, 1, 1, 1, 1, 1, 1, 1, 1],\n",
       "       [1, 1, 1, 1, 1, 1, 1, 1, 1, 1]])"
      ]
     },
     "execution_count": 37,
     "metadata": {},
     "output_type": "execute_result"
    }
   ],
   "source": [
    "x8=np.ones([10, 10], dtype=int)\n",
    "x8"
   ]
  },
  {
   "cell_type": "code",
   "execution_count": 38,
   "id": "19e27708",
   "metadata": {},
   "outputs": [
    {
     "data": {
      "text/plain": [
       "array([[1, 1, 1, 1, 1, 1, 1, 1, 1, 1],\n",
       "       [1, 0, 0, 0, 0, 0, 0, 0, 0, 1],\n",
       "       [1, 0, 0, 0, 0, 0, 0, 0, 0, 1],\n",
       "       [1, 0, 0, 0, 0, 0, 0, 0, 0, 1],\n",
       "       [1, 0, 0, 0, 0, 0, 0, 0, 0, 1],\n",
       "       [1, 0, 0, 0, 0, 0, 0, 0, 0, 1],\n",
       "       [1, 0, 0, 0, 0, 0, 0, 0, 0, 1],\n",
       "       [1, 0, 0, 0, 0, 0, 0, 0, 0, 1],\n",
       "       [1, 0, 0, 0, 0, 0, 0, 0, 0, 1],\n",
       "       [1, 1, 1, 1, 1, 1, 1, 1, 1, 1]])"
      ]
     },
     "execution_count": 38,
     "metadata": {},
     "output_type": "execute_result"
    }
   ],
   "source": [
    "x8[1:9, 1:9]=0\n",
    "x8"
   ]
  },
  {
   "cell_type": "code",
   "execution_count": 39,
   "id": "fc80aa0c",
   "metadata": {},
   "outputs": [
    {
     "data": {
      "text/plain": [
       "array([[3.85660322, 0.10375975, 3.16824117, 3.74401941, 2.49253506,\n",
       "        1.12398323, 0.99031432, 3.80265356, 0.84555418, 0.44169907],\n",
       "       [3.42679909, 4.76696673, 0.01974133, 2.56096132, 4.06310481,\n",
       "        3.06263033, 3.60877659, 1.45938034, 4.58887061, 3.57287892]])"
      ]
     },
     "execution_count": 39,
     "metadata": {},
     "output_type": "execute_result"
    }
   ],
   "source": [
    "#1.15 Extract the integer part of a random array of positive numbers using 2 different methods, \n",
    "#and the result should be an integer array.\n",
    "d = np.random.uniform(0,5,(2,10))\n",
    "d"
   ]
  },
  {
   "cell_type": "code",
   "execution_count": 40,
   "id": "b9cc8a8a",
   "metadata": {},
   "outputs": [
    {
     "data": {
      "text/plain": [
       "array([[3, 0, 3, 3, 2, 1, 0, 3, 0, 0],\n",
       "       [3, 4, 0, 2, 4, 3, 3, 1, 4, 3]])"
      ]
     },
     "execution_count": 40,
     "metadata": {},
     "output_type": "execute_result"
    }
   ],
   "source": [
    "#Method 1\n",
    "d.astype(int)"
   ]
  },
  {
   "cell_type": "code",
   "execution_count": 41,
   "id": "ba561ac0",
   "metadata": {},
   "outputs": [
    {
     "data": {
      "text/plain": [
       "array([[3, 0, 3, 3, 2, 1, 0, 3, 0, 0],\n",
       "       [3, 4, 0, 2, 4, 3, 3, 1, 4, 3]])"
      ]
     },
     "execution_count": 41,
     "metadata": {},
     "output_type": "execute_result"
    }
   ],
   "source": [
    "#Method 2\n",
    "np.asarray(d,dtype=\"int\")"
   ]
  },
  {
   "cell_type": "code",
   "execution_count": 42,
   "id": "95c63d75",
   "metadata": {},
   "outputs": [],
   "source": [
    "#2. Operations on Numpy Arrays:"
   ]
  },
  {
   "cell_type": "code",
   "execution_count": 160,
   "id": "ac1bbe0a",
   "metadata": {},
   "outputs": [
    {
     "data": {
      "text/plain": [
       "array([1, 2, 1, 1, 3, 4, 3, 1, 1, 2, 1, 1, 2])"
      ]
     },
     "execution_count": 160,
     "metadata": {},
     "output_type": "execute_result"
    }
   ],
   "source": [
    "#2.1 Find the index of 5th repetition of number 1 in the given array x.\n",
    "#x: [1, 2, 1, 1, 3, 4, 3, 1, 1, 2, 1, 1, 2]\n",
    "xy= np.array([1, 2, 1, 1, 3, 4, 3, 1, 1, 2, 1, 1, 2])\n",
    "xy"
   ]
  },
  {
   "cell_type": "code",
   "execution_count": 162,
   "id": "d525a7d6",
   "metadata": {},
   "outputs": [
    {
     "data": {
      "text/plain": [
       "8"
      ]
     },
     "execution_count": 162,
     "metadata": {},
     "output_type": "execute_result"
    }
   ],
   "source": [
    "np.where(xy==1)[0][4]"
   ]
  },
  {
   "cell_type": "code",
   "execution_count": 44,
   "id": "733a5ff9",
   "metadata": {},
   "outputs": [
    {
     "data": {
      "text/plain": [
       "array([1, 2, 3, 4, 5, 6, 7, 8, 9])"
      ]
     },
     "execution_count": 44,
     "metadata": {},
     "output_type": "execute_result"
    }
   ],
   "source": [
    "#2.2 Use np.arange to get an array [1, 2, 3, ..., 9]. Split x into 3 sub-arrays, \n",
    "#the length of each sub-array is 4, 2, and 3.\n",
    "y1 = np.arange(1,10)\n",
    "y1"
   ]
  },
  {
   "cell_type": "code",
   "execution_count": 45,
   "id": "de3c1648",
   "metadata": {},
   "outputs": [
    {
     "data": {
      "text/plain": [
       "[array([1, 2, 3, 4]), array([5, 6]), array([7, 8, 9])]"
      ]
     },
     "execution_count": 45,
     "metadata": {},
     "output_type": "execute_result"
    }
   ],
   "source": [
    "np.split(y1, [4,6])"
   ]
  },
  {
   "cell_type": "code",
   "execution_count": 46,
   "id": "927d03ef",
   "metadata": {},
   "outputs": [],
   "source": [
    "# 2.3 Use np.arange to generate the following 2D array:               \n",
    "\n",
    "# [[ 0., 1., 2., 3.],\n",
    "\n",
    "#  [ 4., 5., 6., 7.],\n",
    "\n",
    "#  [ 8., 9., 10., 11.],\n",
    "\n",
    "# #  [ 12., 13., 14., 15.]]\n",
    "# Use np.split to split the array into left and right halves.\n",
    "\n",
    "# [[ 0,  1],\n",
    "\n",
    "#  [ 4,  5],\n",
    "\n",
    "#  [ 8,  9],\n",
    "\n",
    "#  [12, 13]]\n",
    "\n",
    "# and\n",
    "\n",
    "# [[ 2,  3],\n",
    "\n",
    "#  [ 6,  7],\n",
    "\n",
    "#  [10, 11],\n",
    "\n",
    "#  [14, 15]]"
   ]
  },
  {
   "cell_type": "code",
   "execution_count": 47,
   "id": "bb30192c",
   "metadata": {},
   "outputs": [
    {
     "data": {
      "text/plain": [
       "array([[ 0.,  1.,  2.,  3.],\n",
       "       [ 4.,  5.,  6.,  7.],\n",
       "       [ 8.,  9., 10., 11.],\n",
       "       [12., 13., 14., 15.]])"
      ]
     },
     "execution_count": 47,
     "metadata": {},
     "output_type": "execute_result"
    }
   ],
   "source": [
    "y2= np.arange(0,16,dtype=float).reshape(4,4)\n",
    "y2"
   ]
  },
  {
   "cell_type": "code",
   "execution_count": 48,
   "id": "59312bfe",
   "metadata": {},
   "outputs": [
    {
     "data": {
      "text/plain": [
       "[array([[ 0.,  1.],\n",
       "        [ 4.,  5.],\n",
       "        [ 8.,  9.],\n",
       "        [12., 13.]]),\n",
       " array([[ 2.,  3.],\n",
       "        [ 6.,  7.],\n",
       "        [10., 11.],\n",
       "        [14., 15.]])]"
      ]
     },
     "execution_count": 48,
     "metadata": {},
     "output_type": "execute_result"
    }
   ],
   "source": [
    "np.split(y2, 2, 1)"
   ]
  },
  {
   "cell_type": "code",
   "execution_count": 49,
   "id": "f75fe43c",
   "metadata": {},
   "outputs": [],
   "source": [
    "#2.4 Given an 2D array:                                               \n",
    "\n",
    "# [[5,10,15],\n",
    "\n",
    "#  [20,25,30],\n",
    "\n",
    "#  [35,40,45]]\n",
    "\n",
    "# (1) Slicing to get the sub-array [[10,15], [25,30]]\n",
    "\n",
    "# (2) Getting individual element value \"20\" \n"
   ]
  },
  {
   "cell_type": "code",
   "execution_count": 50,
   "id": "7be93184",
   "metadata": {},
   "outputs": [
    {
     "data": {
      "text/plain": [
       "array([[ 5, 10, 15],\n",
       "       [20, 25, 30],\n",
       "       [35, 40, 45]])"
      ]
     },
     "execution_count": 50,
     "metadata": {},
     "output_type": "execute_result"
    }
   ],
   "source": [
    "y3= np.array([[5,10,15],[20,25,30],[35,40,45]])\n",
    "y3"
   ]
  },
  {
   "cell_type": "code",
   "execution_count": 51,
   "id": "a6c9fbe5",
   "metadata": {},
   "outputs": [
    {
     "data": {
      "text/plain": [
       "array([[10, 15],\n",
       "       [25, 30]])"
      ]
     },
     "execution_count": 51,
     "metadata": {},
     "output_type": "execute_result"
    }
   ],
   "source": [
    "y3[0:2, 1:4]"
   ]
  },
  {
   "cell_type": "code",
   "execution_count": 52,
   "id": "eb72d67f",
   "metadata": {},
   "outputs": [
    {
     "data": {
      "text/plain": [
       "20"
      ]
     },
     "execution_count": 52,
     "metadata": {},
     "output_type": "execute_result"
    }
   ],
   "source": [
    "y3[1][0]"
   ]
  },
  {
   "cell_type": "code",
   "execution_count": 53,
   "id": "f275b99d",
   "metadata": {},
   "outputs": [],
   "source": [
    "# 2.5 Let x be an array:                                                   \n",
    "\n",
    "# [[ 1 2 3],\n",
    "\n",
    "#  [ 4 5 6]].\n",
    "# and y be an array\n",
    "\n",
    "# [[ 7 8 9],\n",
    "\n",
    "#  [10 11 12]].\n",
    "# Concatenate x and y so that a new array looks like\n",
    "\n",
    "# [[1, 2, 3, 7, 8, 9],\n",
    "\n",
    "#  [4, 5, 6, 10, 11, 12]]."
   ]
  },
  {
   "cell_type": "code",
   "execution_count": 54,
   "id": "b56b8b4f",
   "metadata": {},
   "outputs": [
    {
     "name": "stdout",
     "output_type": "stream",
     "text": [
      "[[1 2 3]\n",
      " [4 5 6]]\n",
      "[[ 7  8  9]\n",
      " [10 11 12]]\n"
     ]
    }
   ],
   "source": [
    "y4= np.array([[ 1,2, 3],[ 4,5,6]])\n",
    "y5= np.array([[ 7,8,9],[10,11,12]])\n",
    "print(y4)\n",
    "print(y5)"
   ]
  },
  {
   "cell_type": "code",
   "execution_count": 55,
   "id": "1f7bb3b3",
   "metadata": {},
   "outputs": [
    {
     "data": {
      "text/plain": [
       "array([[ 1,  2,  3,  4,  5,  6],\n",
       "       [ 7,  8,  9, 10, 11, 12]])"
      ]
     },
     "execution_count": 55,
     "metadata": {},
     "output_type": "execute_result"
    }
   ],
   "source": [
    "np.concatenate((y4, y5)).reshape(2,6)"
   ]
  },
  {
   "cell_type": "code",
   "execution_count": 91,
   "id": "ff39c235",
   "metadata": {},
   "outputs": [],
   "source": [
    "#2.6 Compute the min/max (min is divided by max) for each row for a given 2d array, in which integer values \n",
    "#range from 1 to 10 [1,10) and shape is (5,3).\n",
    "# Here requires a random seed to keep the same value from the random generator."
   ]
  },
  {
   "cell_type": "code",
   "execution_count": 92,
   "id": "e9052ca6",
   "metadata": {},
   "outputs": [
    {
     "data": {
      "text/plain": [
       "array([[9, 4, 0],\n",
       "       [1, 9, 0],\n",
       "       [1, 8, 9],\n",
       "       [0, 8, 6],\n",
       "       [4, 3, 0]])"
      ]
     },
     "execution_count": 92,
     "metadata": {},
     "output_type": "execute_result"
    }
   ],
   "source": [
    "np.random.seed(10)\n",
    "y6=np.random.randint(10, size=(5,3))\n",
    "y6"
   ]
  },
  {
   "cell_type": "code",
   "execution_count": 98,
   "id": "0c664585",
   "metadata": {},
   "outputs": [
    {
     "name": "stdout",
     "output_type": "stream",
     "text": [
      "0.0\n",
      "0.0\n",
      "0.1111111111111111\n",
      "0.0\n",
      "0.0\n"
     ]
    }
   ],
   "source": [
    "for i in range(5):\n",
    "    print(np.min(y6[i])/np.max(y6[i]))"
   ]
  },
  {
   "cell_type": "code",
   "execution_count": 57,
   "id": "5e6243e0",
   "metadata": {},
   "outputs": [],
   "source": [
    "#2.7 Normalize a 5x5 random matrix:                         \n",
    "\n",
    "# Tips: a normalization operates like: (the array - the mean)/the standard deviation"
   ]
  },
  {
   "cell_type": "code",
   "execution_count": 113,
   "id": "8a37dd20",
   "metadata": {},
   "outputs": [
    {
     "data": {
      "text/plain": [
       "array([[1, 8, 9, 1, 2],\n",
       "       [8, 9, 9, 5, 0],\n",
       "       [2, 7, 3, 0, 4],\n",
       "       [2, 0, 3, 3, 1],\n",
       "       [2, 5, 9, 0, 1]])"
      ]
     },
     "execution_count": 113,
     "metadata": {},
     "output_type": "execute_result"
    }
   ],
   "source": [
    "y7=np.random.randint(10,size=(5,5))\n",
    "y7"
   ]
  },
  {
   "cell_type": "code",
   "execution_count": 115,
   "id": "4247fd33",
   "metadata": {},
   "outputs": [
    {
     "data": {
      "text/plain": [
       "array([[-0.16467292,  6.83532708,  7.83532708, -0.16467292,  0.83532708],\n",
       "       [ 6.83532708,  7.83532708,  7.83532708,  3.83532708, -1.16467292],\n",
       "       [ 0.83532708,  5.83532708,  1.83532708, -1.16467292,  2.83532708],\n",
       "       [ 0.83532708, -1.16467292,  1.83532708,  1.83532708, -0.16467292],\n",
       "       [ 0.83532708,  3.83532708,  7.83532708, -1.16467292, -0.16467292]])"
      ]
     },
     "execution_count": 115,
     "metadata": {},
     "output_type": "execute_result"
    }
   ],
   "source": [
    "y7- np.mean(y7)/np.std(y7)"
   ]
  },
  {
   "cell_type": "code",
   "execution_count": 58,
   "id": "b595533b",
   "metadata": {},
   "outputs": [],
   "source": [
    "#2.8 Convert 3 arrays into a 1d array.                         \n",
    "\n",
    "# arr1: 0,1,2\n",
    "\n",
    "# arr2: 3,4,5,6\n",
    "\n",
    "# arr3: 7,8,9\n",
    "# Generate the 3 arrays by numpy arange()\n",
    "\n",
    "# Desired Output:\n",
    "\n",
    "# ([0, 1, 2, 3, 4, 5, 6, 7, 8, 9])\n"
   ]
  },
  {
   "cell_type": "code",
   "execution_count": 59,
   "id": "592069fe",
   "metadata": {},
   "outputs": [
    {
     "name": "stdout",
     "output_type": "stream",
     "text": [
      "[0 1 2]\n",
      "[3 4 5 6]\n",
      "[7 8 9]\n"
     ]
    }
   ],
   "source": [
    "arr1 = np.arange(0,3)\n",
    "arr2 = np.arange(3,7)\n",
    "arr3 = np.arange(7,10)\n",
    "print(arr1)\n",
    "print(arr2)\n",
    "print(arr3)"
   ]
  },
  {
   "cell_type": "code",
   "execution_count": 60,
   "id": "decf3caa",
   "metadata": {},
   "outputs": [
    {
     "data": {
      "text/plain": [
       "array([0, 1, 2, 3, 4, 5, 6, 7, 8, 9])"
      ]
     },
     "execution_count": 60,
     "metadata": {},
     "output_type": "execute_result"
    }
   ],
   "source": [
    "np.concatenate((arr1, arr2, arr3))"
   ]
  },
  {
   "cell_type": "code",
   "execution_count": 158,
   "id": "3a45509a",
   "metadata": {},
   "outputs": [
    {
     "data": {
      "text/plain": [
       "array([ 9, 15, 64, 28, 89, 93, 29,  8, 73,  0, 40, 36, 16, 11, 54, 88, 62,\n",
       "       33, 72, 78])"
      ]
     },
     "execution_count": 158,
     "metadata": {},
     "output_type": "execute_result"
    }
   ],
   "source": [
    "#2.9 Get all items between 15 and 55 from aa, math expression: [15,55].                 \n",
    "\n",
    "# The aa is uniformly distributed integers in a 1D array (size=20) with given values (<100). \n",
    "# Requires defining a seed.\n",
    "np.random.seed(10)\n",
    "y9= np.random.randint(100, size=20)\n",
    "y9"
   ]
  },
  {
   "cell_type": "code",
   "execution_count": 179,
   "id": "25f1e1a1",
   "metadata": {},
   "outputs": [
    {
     "data": {
      "text/plain": [
       "array([15, 28, 29, 40, 36, 16, 54, 33])"
      ]
     },
     "execution_count": 179,
     "metadata": {},
     "output_type": "execute_result"
    }
   ],
   "source": [
    "indices=np.where(np.logical_and(y9>=15, y9<=55))\n",
    "y9[indices]"
   ]
  },
  {
   "cell_type": "code",
   "execution_count": 146,
   "id": "75095b9e",
   "metadata": {},
   "outputs": [
    {
     "name": "stdout",
     "output_type": "stream",
     "text": [
      "[1 2 3 2 3 4 3 4 5 6]\n",
      "[ 7  2 10  2  7  4  9  4  9  8]\n"
     ]
    }
   ],
   "source": [
    "#2.10 Get the positions where elements of a and b match.                \n",
    "\n",
    "arr_a = np.array([1,2,3,2,3,4,3,4,5,6])\n",
    "\n",
    "arr_b = np.array([7,2,10,2,7,4,9,4,9,8])\n",
    "print(arr_a)\n",
    "print(arr_b)"
   ]
  },
  {
   "cell_type": "code",
   "execution_count": 211,
   "id": "f04410af",
   "metadata": {},
   "outputs": [
    {
     "name": "stdout",
     "output_type": "stream",
     "text": [
      "[1 5]\n"
     ]
    }
   ],
   "source": [
    "arrabVal, arra_idx, arrb_idx = np.intersect1d(arr_a, arr_b,return_indices=True)\n",
    "print(arra_idx)"
   ]
  },
  {
   "cell_type": "code",
   "execution_count": 63,
   "id": "e6997530",
   "metadata": {},
   "outputs": [],
   "source": [
    "#2.11 Use arange() to create an array from 0 to 20 ( [0,20) ); replace all odd numbers with -1."
   ]
  },
  {
   "cell_type": "code",
   "execution_count": 167,
   "id": "6755e527",
   "metadata": {},
   "outputs": [
    {
     "data": {
      "text/plain": [
       "array([ 0,  1,  2,  3,  4,  5,  6,  7,  8,  9, 10, 11, 12, 13, 14, 15, 16,\n",
       "       17, 18, 19])"
      ]
     },
     "execution_count": 167,
     "metadata": {},
     "output_type": "execute_result"
    }
   ],
   "source": [
    "y8= np.arange(0,20)\n",
    "y8"
   ]
  },
  {
   "cell_type": "code",
   "execution_count": 122,
   "id": "546ee4ff",
   "metadata": {},
   "outputs": [
    {
     "data": {
      "text/plain": [
       "array([ 0, -1,  2, -1,  4, -1,  6, -1,  8, -1, 10, -1, 12, -1, 14, -1, 16,\n",
       "       -1, 18, -1])"
      ]
     },
     "execution_count": 122,
     "metadata": {},
     "output_type": "execute_result"
    }
   ],
   "source": [
    "y8[1::2]=-1\n",
    "y8"
   ]
  },
  {
   "cell_type": "code",
   "execution_count": 64,
   "id": "6871b9dc",
   "metadata": {},
   "outputs": [],
   "source": [
    "#2.12 Considering a four dimensions array (3,4,3,4) with the values 0-9 randomly, \n",
    "#how to get sum over the last two axis at once?"
   ]
  },
  {
   "cell_type": "code",
   "execution_count": 195,
   "id": "8ee3e94f",
   "metadata": {},
   "outputs": [
    {
     "data": {
      "text/plain": [
       "array([[[[8, 6, 6, 4],\n",
       "         [7, 1, 4, 1],\n",
       "         [4, 6, 8, 7]],\n",
       "\n",
       "        [[6, 3, 4, 3],\n",
       "         [5, 2, 0, 7],\n",
       "         [0, 3, 4, 8]],\n",
       "\n",
       "        [[1, 4, 7, 7],\n",
       "         [4, 0, 5, 1],\n",
       "         [5, 4, 8, 2]],\n",
       "\n",
       "        [[7, 2, 4, 2],\n",
       "         [5, 7, 3, 3],\n",
       "         [1, 7, 5, 1]]],\n",
       "\n",
       "\n",
       "       [[[4, 8, 0, 6],\n",
       "         [5, 4, 3, 5],\n",
       "         [6, 2, 3, 4]],\n",
       "\n",
       "        [[7, 2, 0, 2],\n",
       "         [5, 5, 1, 4],\n",
       "         [4, 8, 7, 0]],\n",
       "\n",
       "        [[7, 4, 8, 5],\n",
       "         [7, 5, 2, 1],\n",
       "         [6, 2, 8, 4]],\n",
       "\n",
       "        [[0, 4, 2, 3],\n",
       "         [6, 4, 8, 6],\n",
       "         [1, 1, 3, 8]]],\n",
       "\n",
       "\n",
       "       [[[6, 5, 5, 8],\n",
       "         [6, 3, 0, 4],\n",
       "         [2, 7, 4, 7]],\n",
       "\n",
       "        [[2, 6, 0, 1],\n",
       "         [5, 8, 3, 5],\n",
       "         [6, 6, 4, 4]],\n",
       "\n",
       "        [[0, 3, 1, 7],\n",
       "         [0, 3, 7, 4],\n",
       "         [4, 2, 1, 3]],\n",
       "\n",
       "        [[1, 2, 8, 8],\n",
       "         [6, 8, 2, 1],\n",
       "         [5, 6, 1, 7]]]])"
      ]
     },
     "execution_count": 195,
     "metadata": {},
     "output_type": "execute_result"
    }
   ],
   "source": [
    "y9=np.random.randint(9,size=(3,4,3,4))\n",
    "y9\n"
   ]
  },
  {
   "cell_type": "code",
   "execution_count": 210,
   "id": "c92cca87",
   "metadata": {},
   "outputs": [
    {
     "data": {
      "text/plain": [
       "94"
      ]
     },
     "execution_count": 210,
     "metadata": {},
     "output_type": "execute_result"
    }
   ],
   "source": [
    "np.sum(sum(y7))"
   ]
  },
  {
   "cell_type": "code",
   "execution_count": 207,
   "id": "07f681d9",
   "metadata": {},
   "outputs": [
    {
     "data": {
      "text/plain": [
       "array([[[22, 15, 21, 16],\n",
       "        [21, 10, 12, 12],\n",
       "        [10, 20, 25, 18]],\n",
       "\n",
       "       [[18, 18, 10, 16],\n",
       "        [23, 18, 14, 16],\n",
       "        [17, 13, 21, 16]],\n",
       "\n",
       "       [[ 9, 16, 14, 24],\n",
       "        [17, 22, 12, 14],\n",
       "        [17, 21, 10, 21]]])"
      ]
     },
     "execution_count": 207,
     "metadata": {},
     "output_type": "execute_result"
    }
   ],
   "source": [
    "np.sum(y9, axis=-3)"
   ]
  },
  {
   "cell_type": "code",
   "execution_count": 208,
   "id": "ff62e1e2",
   "metadata": {},
   "outputs": [
    {
     "data": {
      "text/plain": [
       "array([[[19, 13, 18, 12],\n",
       "        [11,  8,  8, 18],\n",
       "        [10,  8, 20, 10],\n",
       "        [13, 16, 12,  6]],\n",
       "\n",
       "       [[15, 14,  6, 15],\n",
       "        [16, 15,  8,  6],\n",
       "        [20, 11, 18, 10],\n",
       "        [ 7,  9, 13, 17]],\n",
       "\n",
       "       [[14, 15,  9, 19],\n",
       "        [13, 20,  7, 10],\n",
       "        [ 4,  8,  9, 14],\n",
       "        [12, 16, 11, 16]]])"
      ]
     },
     "execution_count": 208,
     "metadata": {},
     "output_type": "execute_result"
    }
   ],
   "source": [
    "np.sum(y9, axis=-2)"
   ]
  }
 ],
 "metadata": {
  "kernelspec": {
   "display_name": "Python 3 (ipykernel)",
   "language": "python",
   "name": "python3"
  },
  "language_info": {
   "codemirror_mode": {
    "name": "ipython",
    "version": 3
   },
   "file_extension": ".py",
   "mimetype": "text/x-python",
   "name": "python",
   "nbconvert_exporter": "python",
   "pygments_lexer": "ipython3",
   "version": "3.9.12"
  }
 },
 "nbformat": 4,
 "nbformat_minor": 5
}
